{
  "nbformat": 4,
  "nbformat_minor": 0,
  "metadata": {
    "colab": {
      "provenance": [],
      "authorship_tag": "ABX9TyOjRZYhuYFAtNVnOn9zoc8W",
      "include_colab_link": true
    },
    "kernelspec": {
      "name": "python3",
      "display_name": "Python 3"
    },
    "language_info": {
      "name": "python"
    }
  },
  "cells": [
    {
      "cell_type": "markdown",
      "metadata": {
        "id": "view-in-github",
        "colab_type": "text"
      },
      "source": [
        "<a href=\"https://colab.research.google.com/github/idnunez/MAT-421/blob/main/ModuleG_2.ipynb\" target=\"_parent\"><img src=\"https://colab.research.google.com/assets/colab-badge.svg\" alt=\"Open In Colab\"/></a>"
      ]
    },
    {
      "cell_type": "markdown",
      "source": [
        "# Module G Part 2\n",
        "\n",
        "Isaac Nunez"
      ],
      "metadata": {
        "id": "nqCNG_RcLLHf"
      }
    },
    {
      "cell_type": "markdown",
      "source": [
        "Section 21.4: Simpson's Rule\n",
        "\n",
        "Simpson's rule is a method for approximating an integral over a function by interpolating quadrading polynomials over two intervals of data.\n",
        "\n",
        "These functions can be found using the formula:\n",
        "\n",
        "$\\int_{i-1}^{i+1}f(x)dx\\approx \\frac{h}{3}(f(x_{i-1})+4f(x_{i})+f(x_{x+1}))$\n",
        "\n",
        "This form of integration can be calculated using python."
      ],
      "metadata": {
        "id": "ygvYjYvZLQZB"
      }
    },
    {
      "cell_type": "code",
      "source": [
        "#This is an example using Simpson's rule to approximate the integral of cos(x) over the interval 0 to pi/2\n",
        "import numpy as np\n",
        "\n",
        "a = 0\n",
        "b = np.pi/2\n",
        "n = 11\n",
        "h = (b - a) / (n - 1)\n",
        "x = np.linspace(a, b, n)\n",
        "f = np.cos(x)\n",
        "\n",
        "I_simp = (h/3) * (f[0] + 2*sum(f[:n-2:2]) + 4*sum(f[1:n-1:2]) + f[n-1])\n",
        "#  This function approximates the integral using Simpson's rule. The two end\n",
        "# terms are only counted once, the ends of each sub-interval are multiplied\n",
        "# by two, and the midpoints of each interval are multiplied by four, as per\n",
        "# Simpson's formula\n",
        "err_simp = 1 - I_simp #Calculating error versus actual value\n",
        "\n",
        "print(\"Approximation using Simpson's rule: \", I_simp)\n",
        "print(\"Error: \", err_simp)"
      ],
      "metadata": {
        "colab": {
          "base_uri": "https://localhost:8080/"
        },
        "id": "Aq9CxSkeQ6nT",
        "outputId": "1955d8b4-a7f8-44d2-cd50-412a77664a52"
      },
      "execution_count": 8,
      "outputs": [
        {
          "output_type": "stream",
          "name": "stdout",
          "text": [
            "Approximation using Simpson's rule:  1.1047231473405603\n",
            "Error:  -0.10472314734056032\n"
          ]
        }
      ]
    },
    {
      "cell_type": "markdown",
      "source": [
        "It is worth noting that Simpson's rule can only be applied to an odd number of data points, allowing for an even number of sub-intervals."
      ],
      "metadata": {
        "id": "LFGPwiRiTsIx"
      }
    }
  ]
}