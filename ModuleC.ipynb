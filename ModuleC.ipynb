{
  "nbformat": 4,
  "nbformat_minor": 0,
  "metadata": {
    "colab": {
      "provenance": [],
      "authorship_tag": "ABX9TyPQTv658zcen8kfYSFVWTYP",
      "include_colab_link": true
    },
    "kernelspec": {
      "name": "python3",
      "display_name": "Python 3"
    },
    "language_info": {
      "name": "python"
    }
  },
  "cells": [
    {
      "cell_type": "markdown",
      "metadata": {
        "id": "view-in-github",
        "colab_type": "text"
      },
      "source": [
        "<a href=\"https://colab.research.google.com/github/idnunez/MAT-421/blob/main/ModuleC.ipynb\" target=\"_parent\"><img src=\"https://colab.research.google.com/assets/colab-badge.svg\" alt=\"Open In Colab\"/></a>"
      ]
    },
    {
      "cell_type": "markdown",
      "source": [
        "# MAT421 Module C\n",
        "\n",
        "Isaac Nunez"
      ],
      "metadata": {
        "id": "R-Q0Hzu8xHog"
      }
    },
    {
      "cell_type": "markdown",
      "source": [
        "Section 19.1: Root Finding Problem Statement"
      ],
      "metadata": {
        "id": "lpeRlbFxxWXv"
      }
    },
    {
      "cell_type": "markdown",
      "source": [
        "The roots r in a function f(x) are all values of r such that f(r) = 0. While exact roots can be found by hand for simple equations, more complex functions may require approximations to be done in order to arrive at a solution."
      ],
      "metadata": {
        "id": "dZpUCjRkxjOM"
      }
    },
    {
      "cell_type": "markdown",
      "source": [
        "In Python, the fsolve function from scipy can be used in order to approximate a root of a function closest to a chosen value. In this example, it is used to approximate the root of sin(x) + 2x - 5 that is closest to -3."
      ],
      "metadata": {
        "id": "QW91r9JFzRKq"
      }
    },
    {
      "cell_type": "code",
      "execution_count": 4,
      "metadata": {
        "colab": {
          "base_uri": "https://localhost:8080/"
        },
        "id": "GaN2xBDIw-m8",
        "outputId": "5f4fe0f5-8398-4b4c-d257-890ac160d542"
      },
      "outputs": [
        {
          "output_type": "stream",
          "name": "stdout",
          "text": [
            "r =  [2.05823148]\n",
            "f(r) =  [0.]\n"
          ]
        }
      ],
      "source": [
        "import numpy as np\n",
        "from scipy import optimize\n",
        "\n",
        "f = lambda x: np.sin(x) + 2*x - 5\n",
        "\n",
        "r = optimize.fsolve(f,-3)\n",
        "\n",
        "print(\"r = \", r)\n",
        "print(\"f(r) = \", f(r))"
      ]
    },
    {
      "cell_type": "markdown",
      "source": [
        "When encountering a function that does not have a root, like $\\frac{1}{2x+3}$, fsolve, will return an error."
      ],
      "metadata": {
        "id": "4_qCCit_0-jA"
      }
    },
    {
      "cell_type": "code",
      "source": [
        "f = lambda x: 1/(2*x + 3)\n",
        "\n",
        "r, infodirect, iter, mesg = optimize.fsolve(f, -3, full_output=True)\n",
        "\n",
        "print(\"r = \", r)\n",
        "print(\"f(r) = \", f(r))\n",
        "print(mesg)"
      ],
      "metadata": {
        "colab": {
          "base_uri": "https://localhost:8080/"
        },
        "id": "7qDBl6Gh0-Cj",
        "outputId": "bc40be94-5fed-49c1-b50e-970e163a72ee"
      },
      "execution_count": 8,
      "outputs": [
        {
          "output_type": "stream",
          "name": "stdout",
          "text": [
            "r =  [-2.64035518e+83]\n",
            "f(r) =  [-1.89368462e-84]\n",
            "The number of calls to function has reached maxfev = 400.\n"
          ]
        }
      ]
    },
    {
      "cell_type": "markdown",
      "source": [
        "Section 19.2: Tolerance"
      ],
      "metadata": {
        "id": "06i1aHV72PMW"
      }
    },
    {
      "cell_type": "markdown",
      "source": [
        "When computing complex problems, some amount of error is to be expected. Programmers and engineers use what is called a tolerance level to define how precise they need to be in order for the error to be at an acceptable level. When calculating the roots of a problem, the objective is to achieve a value as close to zero as possible. The tolerance level tol defines that threshold such that any value r such that |f(r)| <= tol can be accepted as a root for f."
      ],
      "metadata": {
        "id": "yAqOlz1I2Wmj"
      }
    },
    {
      "cell_type": "markdown",
      "source": [
        "Section 19.3: Bisection Method"
      ],
      "metadata": {
        "id": "Rq3rxfdA5z46"
      }
    },
    {
      "cell_type": "markdown",
      "source": [
        "The Bisection Method for approximating roots takes advantage of the Intermediate Value Theorem, which states that if values f(a) and f(b) have differing signs, there exists a value c such that a < c < b and f(c) = 0."
      ],
      "metadata": {
        "id": "SY-CIz8x54q2"
      }
    },
    {
      "cell_type": "markdown",
      "source": [
        "This method involves starting with two values a and b with differing signs when input into a function f. Then, a midpoint m is found between these functions, repeating recursively until the absolute value of f(m) is less than the given tolerance level."
      ],
      "metadata": {
        "id": "HY6lsnYK72Yg"
      }
    },
    {
      "cell_type": "code",
      "source": [
        "def my_bisection(f, a, b, tol):\n",
        "\n",
        "  #Determine if f(a) and f(b) have differing signs.\n",
        "  if np.sign(f(a)) == np.sign(f(b)):\n",
        "    raise Exception(\n",
        "        \"f(a) and f(b) have the same sign. A root cannot be determined\"\n",
        "    )\n",
        "\n",
        "  #Determine a value for m\n",
        "  m = (a + b)/2\n",
        "\n",
        "  #Check if f(m) falls under the tolerance level\n",
        "  if np.abs(f(m)) < tol:\n",
        "    return m\n",
        "  #Determine if m needs to become the new lower bound or upper bound, then applies the function recursively.\n",
        "  elif np.sign(f(m)) == np.sign(f(a)):\n",
        "    return my_bisection(f, m, b, tol)\n",
        "  elif np.sign(f(m)) == np.sign(f(b)):\n",
        "    return my_bisection(f, a, m, tol)"
      ],
      "metadata": {
        "id": "ceMeBIyg8nNF"
      },
      "execution_count": 10,
      "outputs": []
    },
    {
      "cell_type": "markdown",
      "source": [
        "Using this def, a root for the function $3x^{3} + 2x^{2} - 4x + 1$ between the values -2 and -1 with a tolerance level of .01."
      ],
      "metadata": {
        "id": "8Tmi99ky-iXg"
      }
    },
    {
      "cell_type": "code",
      "source": [
        "f = lambda x: 3*x**3 + 2*x**2 - 4*x + 1\n",
        "\n",
        "r = my_bisection(f, -2, -1, 0.01)\n",
        "\n",
        "print(\"r = \", r)\n",
        "\n",
        "print(\"f(r) = \", f(r))"
      ],
      "metadata": {
        "colab": {
          "base_uri": "https://localhost:8080/"
        },
        "id": "OuJuQi8u__rc",
        "outputId": "385762a1-d609-41b1-f2f2-91934f1b1351"
      },
      "execution_count": 11,
      "outputs": [
        {
          "output_type": "stream",
          "name": "stdout",
          "text": [
            "r =  -1.6181640625\n",
            "f(r) =  -0.001702900044620037\n"
          ]
        }
      ]
    },
    {
      "cell_type": "markdown",
      "source": [
        "While this method works for many functions, it has a major weakness in that it can only find roots when they are bound by a positive and negative value. As an example of this limitation, when finding the root of x^2 between -1 and 2 with a tolerance, of 0.01, an exception is returned despite there being a root between them at 0. This is because all real values of x^2 are positive, making the Bisection method not viable for this problem."
      ],
      "metadata": {
        "id": "vlfAufUYAsOj"
      }
    },
    {
      "cell_type": "code",
      "source": [
        "my_bisection(lambda x: x**2, -1, 2, 0.01)"
      ],
      "metadata": {
        "colab": {
          "base_uri": "https://localhost:8080/",
          "height": 263
        },
        "id": "U65opGTJBkEq",
        "outputId": "c7ee26b1-6209-4966-f4af-32a5f553414a"
      },
      "execution_count": 12,
      "outputs": [
        {
          "output_type": "error",
          "ename": "Exception",
          "evalue": "f(a) and f(b) have the same sign. A root cannot be determined",
          "traceback": [
            "\u001b[0;31m---------------------------------------------------------------------------\u001b[0m",
            "\u001b[0;31mException\u001b[0m                                 Traceback (most recent call last)",
            "\u001b[0;32m<ipython-input-12-396b2b6c5280>\u001b[0m in \u001b[0;36m<cell line: 0>\u001b[0;34m()\u001b[0m\n\u001b[0;32m----> 1\u001b[0;31m \u001b[0mmy_bisection\u001b[0m\u001b[0;34m(\u001b[0m\u001b[0;32mlambda\u001b[0m \u001b[0mx\u001b[0m\u001b[0;34m:\u001b[0m \u001b[0mx\u001b[0m\u001b[0;34m**\u001b[0m\u001b[0;36m2\u001b[0m\u001b[0;34m,\u001b[0m \u001b[0;34m-\u001b[0m\u001b[0;36m1\u001b[0m\u001b[0;34m,\u001b[0m \u001b[0;36m2\u001b[0m\u001b[0;34m,\u001b[0m \u001b[0;36m0.01\u001b[0m\u001b[0;34m)\u001b[0m\u001b[0;34m\u001b[0m\u001b[0;34m\u001b[0m\u001b[0m\n\u001b[0m",
            "\u001b[0;32m<ipython-input-10-312c88c9b3a8>\u001b[0m in \u001b[0;36mmy_bisection\u001b[0;34m(f, a, b, tol)\u001b[0m\n\u001b[1;32m      3\u001b[0m   \u001b[0;31m#Determine if f(a) and f(b) have differing signs.\u001b[0m\u001b[0;34m\u001b[0m\u001b[0;34m\u001b[0m\u001b[0m\n\u001b[1;32m      4\u001b[0m   \u001b[0;32mif\u001b[0m \u001b[0mnp\u001b[0m\u001b[0;34m.\u001b[0m\u001b[0msign\u001b[0m\u001b[0;34m(\u001b[0m\u001b[0mf\u001b[0m\u001b[0;34m(\u001b[0m\u001b[0ma\u001b[0m\u001b[0;34m)\u001b[0m\u001b[0;34m)\u001b[0m \u001b[0;34m==\u001b[0m \u001b[0mnp\u001b[0m\u001b[0;34m.\u001b[0m\u001b[0msign\u001b[0m\u001b[0;34m(\u001b[0m\u001b[0mf\u001b[0m\u001b[0;34m(\u001b[0m\u001b[0mb\u001b[0m\u001b[0;34m)\u001b[0m\u001b[0;34m)\u001b[0m\u001b[0;34m:\u001b[0m\u001b[0;34m\u001b[0m\u001b[0;34m\u001b[0m\u001b[0m\n\u001b[0;32m----> 5\u001b[0;31m     raise Exception(\n\u001b[0m\u001b[1;32m      6\u001b[0m         \u001b[0;34m\"f(a) and f(b) have the same sign. A root cannot be determined\"\u001b[0m\u001b[0;34m\u001b[0m\u001b[0;34m\u001b[0m\u001b[0m\n\u001b[1;32m      7\u001b[0m     )\n",
            "\u001b[0;31mException\u001b[0m: f(a) and f(b) have the same sign. A root cannot be determined"
          ]
        }
      ]
    },
    {
      "cell_type": "markdown",
      "source": [
        "Section 19.4: Newton-Raphson Method"
      ],
      "metadata": {
        "id": "ixKsBb7nB51P"
      }
    },
    {
      "cell_type": "markdown",
      "source": [
        "The Newton-Raphson Method is another method used in approximating roots. This method, unlike the bisection method, uses a single starting value, x0, and creates a linear approximization of the function at that point, finding the intersection with the x-axis, and repeating until the desired tolerance level is acheived.\n",
        "\n"
      ],
      "metadata": {
        "id": "bsuS7SuPDegS"
      }
    },
    {
      "cell_type": "code",
      "source": [
        "def my_newton(f, df, x0, tol):\n",
        "  if np.abs(f(x0)) < tol:\n",
        "    return x0\n",
        "  else:\n",
        "    return my_newton(f, df, x0 - (f(x0)/df(x0)), tol)\n",
        "\n",
        "#Using the same function as in section 19.3\n",
        "f = lambda x: 3*x**3 + 2*x**2 - 4*x + 1\n",
        "#Defining the derivative of f to calculate the linear approximation at each step\n",
        "df = lambda x: 9*x**2 + 4*x - 4\n",
        "\n",
        "r = my_newton(f, df, -2, 0.01)\n",
        "\n",
        "print(\"r = \", r)\n",
        "print(\"f(r) = \", f(r))"
      ],
      "metadata": {
        "colab": {
          "base_uri": "https://localhost:8080/"
        },
        "id": "uLgVWuljEU3k",
        "outputId": "00fe5acb-fb0f-447d-87d1-15a63c57fbb5"
      },
      "execution_count": 14,
      "outputs": [
        {
          "output_type": "stream",
          "name": "stdout",
          "text": [
            "r =  -1.6180795402222004\n",
            "f(r) =  -0.000596302579937813\n"
          ]
        }
      ]
    },
    {
      "cell_type": "markdown",
      "source": [
        "While the Newton-Raphson method doesn't have the same weaknesses as the bisection method, one weakness is that when the derivative for f at x0 is close to zero, it can result in an x1 that is extremely far from the original x0, leading to potential inaccuracies."
      ],
      "metadata": {
        "id": "HcPR2MlSF-pI"
      }
    },
    {
      "cell_type": "markdown",
      "source": [
        "Section 19.5: Root Finding in Python"
      ],
      "metadata": {
        "id": "uZLf6XpZGnbU"
      }
    },
    {
      "cell_type": "markdown",
      "source": [
        "Instead of utilizing these methods for finding roots, we can simply use the already defined fsolve function from scipy.optimize. Below, all of the roots for the function from parts 19.3 and 19.4 are determined using fsolve."
      ],
      "metadata": {
        "id": "GC7PHWlaGudu"
      }
    },
    {
      "cell_type": "code",
      "source": [
        "f = lambda x: 3*x**3 + 2*x**2 - 4*x + 1\n",
        "\n",
        "r = optimize.fsolve(f, [-2, 0, 1])\n",
        "\n",
        "print(\"r = \", r)"
      ],
      "metadata": {
        "colab": {
          "base_uri": "https://localhost:8080/"
        },
        "id": "KW25ApySHk_F",
        "outputId": "bc115738-66d0-41ad-d1be-6765187a7b2b"
      },
      "execution_count": 16,
      "outputs": [
        {
          "output_type": "stream",
          "name": "stdout",
          "text": [
            "r =  [-1.61803399  0.33333333  0.61803399]\n"
          ]
        }
      ]
    }
  ]
}