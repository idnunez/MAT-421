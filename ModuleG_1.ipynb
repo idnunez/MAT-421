{
  "nbformat": 4,
  "nbformat_minor": 0,
  "metadata": {
    "colab": {
      "provenance": [],
      "authorship_tag": "ABX9TyOQ4A6mlqT9CCs39RcSXSmK",
      "include_colab_link": true
    },
    "kernelspec": {
      "name": "python3",
      "display_name": "Python 3"
    },
    "language_info": {
      "name": "python"
    }
  },
  "cells": [
    {
      "cell_type": "markdown",
      "metadata": {
        "id": "view-in-github",
        "colab_type": "text"
      },
      "source": [
        "<a href=\"https://colab.research.google.com/github/idnunez/MAT-421/blob/main/ModuleG_1.ipynb\" target=\"_parent\"><img src=\"https://colab.research.google.com/assets/colab-badge.svg\" alt=\"Open In Colab\"/></a>"
      ]
    },
    {
      "cell_type": "markdown",
      "source": [
        "# MAT421 Module G Part 1\n",
        "\n",
        "Isaac Nunez"
      ],
      "metadata": {
        "id": "5Nf8Dy0sFHcd"
      }
    },
    {
      "cell_type": "markdown",
      "source": [
        "Section 21.1: Numerical Integration Problem Statement\n",
        "\n",
        "This module discusses ways to approximate the integral of a function f(x) over the interval [a,b].\n",
        "\n",
        "The approximation is done using a numerical grid x containing n-1 points ranging from $x_0 = a$ to $x_n = b$. The spacing between these points is defined as $h = \\frac{b-a}{n}$.\n",
        "\n",
        "After defining these intervals, the interval can be approximated by finding the approximate area of each subinterval."
      ],
      "metadata": {
        "id": "WVj5lETBFbXX"
      }
    },
    {
      "cell_type": "markdown",
      "source": [
        "Section 21.2: Riemann's Integral\n",
        "\n",
        "Riemann's method for approximating integrals approximates the area of each subinterval using rectangles. These rectangles can be found using the right endpoint, left endpoint, or midpoint of the function at each subinterval.\n",
        "\n",
        "Left Endpoint Formula:\n",
        "\n",
        "$\\sum_{i=0}^{n-1} hf(x_{i})$\n",
        "\n",
        "Right Endpoint Formula:\n",
        "\n",
        "$\\sum_{i=1}^{n} hf(x_{i})$\n",
        "\n",
        "Midpoint Formula:\n",
        "\n",
        "$\\sum_{i=0}^{n-1} hf(\\frac{x_{i}+x_{i+1}}{2})$"
      ],
      "metadata": {
        "id": "GwA2g_eFGe9D"
      }
    },
    {
      "cell_type": "code",
      "source": [
        "#Using the example found in the course module, an approximation for the integral to the function x^2 + 4x + 5 over the interval [0,3] (exact value 42) is found using 3 variants of riemann's integral\n",
        "import numpy as np\n",
        "\n",
        "a = 0 #Start of the interval\n",
        "b = 3 #End of the interval\n",
        "n = 11 #Desired number of steps\n",
        "h = (b - a) / (n - 1) #Desired step size\n",
        "x = np.linspace(a, b, n) #Forming the numerical grid x to define our intervals\n",
        "f = x**2 + 4*x + 5 #Define the function\n",
        "\n",
        "#Approximate the integral using the formulas for each riemann integral variant, including the error\n",
        "I_riemannL = h * sum(f[:n-1])\n",
        "err_riemannL = 42 - I_riemannL\n",
        "\n",
        "I_riemannR = h * sum(f[1::])\n",
        "err_riemannR = 42 - I_riemannR\n",
        "\n",
        "I_mid = h * sum((((x[:n-1] + x[1:])/2))**2 + 4*((x[:n-1] + x[1:])/2) + 5)\n",
        "err_mid = 42 - I_mid\n",
        "\n",
        "print(\"Left Hand Riemann Sum: \", I_riemannL)\n",
        "print(\"Left Hand Riemann Sum Error: \", err_riemannL)\n",
        "\n",
        "print(\"Right Hand Riemann Sum: \", I_riemannR)\n",
        "print(\"Right Hand Riemann Sum Error: \", err_riemannR)\n",
        "\n",
        "print(\"Midpoint Riemann Sum: \", I_mid)\n",
        "print(\"Midpoint Riemann Sum Error: \", err_mid)"
      ],
      "metadata": {
        "colab": {
          "base_uri": "https://localhost:8080/"
        },
        "id": "WcRppXb3I4St",
        "outputId": "81a910d9-0415-4c6b-f4e6-3dff87242583"
      },
      "execution_count": 9,
      "outputs": [
        {
          "output_type": "stream",
          "name": "stdout",
          "text": [
            "Left Hand Riemann Sum:  38.89499999999999\n",
            "Left Hand Riemann Sum Error:  3.105000000000011\n",
            "Right Hand Riemann Sum:  45.195\n",
            "Right Hand Riemann Sum Error:  -3.1950000000000003\n",
            "Midpoint Riemann Sum:  41.97749999999999\n",
            "Midpoint Riemann Sum Error:  0.022500000000007958\n"
          ]
        }
      ]
    },
    {
      "cell_type": "markdown",
      "source": [
        "Section 21.3: Trapezoid Rule\n",
        "\n",
        "The Trapezoid rule is another way of approximating an integral over a discrete set of points by finding the approximate area between each subinterval using trapezoids.\n",
        "\n",
        "Trapezoid Rule Formula:\n",
        "\n",
        "$\\sum_{i=0}^{n-1}h\\frac{x_{i}+x_{i+1}}{2}$\n",
        "\n",
        "Because the trapezoid rule makes many unnecessary calls using this formula, we can use this one instead to make it more efficient:\n",
        "\n",
        "$\\frac{h}{2}(f(x_{0}) + 2\\sum_{i=1}^{n-1}f(x_{i}) + f(x_{n}))$"
      ],
      "metadata": {
        "id": "TQw-hGZ3MR5F"
      }
    },
    {
      "cell_type": "code",
      "source": [
        "#Approximation of the previous integral using the trapezoid rule\n",
        "\n",
        "I_trap = (h/2) * (f[0] + 2*sum(f[1:n-1]) + f[n-1])\n",
        "err_trap = 42 - I_trap\n",
        "\n",
        "print(\"Trapezoid Rule Sum: \", I_trap)\n",
        "print(\"Trapexoid Rule Error: \", err_trap)"
      ],
      "metadata": {
        "colab": {
          "base_uri": "https://localhost:8080/"
        },
        "id": "o8twDVXSN8ug",
        "outputId": "b9429644-6d3d-4c79-bf6d-4cfa0535c8dd"
      },
      "execution_count": 15,
      "outputs": [
        {
          "output_type": "stream",
          "name": "stdout",
          "text": [
            "Trapezoid Rule Sum:  42.045\n",
            "Trapexoid Rule Error:  -0.045000000000001705\n"
          ]
        }
      ]
    }
  ]
}