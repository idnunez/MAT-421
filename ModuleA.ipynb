{
  "nbformat": 4,
  "nbformat_minor": 0,
  "metadata": {
    "colab": {
      "provenance": [],
      "authorship_tag": "ABX9TyO/np402Od0rYKfwEF6OGPc",
      "include_colab_link": true
    },
    "kernelspec": {
      "name": "python3",
      "display_name": "Python 3"
    },
    "language_info": {
      "name": "python"
    }
  },
  "cells": [
    {
      "cell_type": "markdown",
      "metadata": {
        "id": "view-in-github",
        "colab_type": "text"
      },
      "source": [
        "<a href=\"https://colab.research.google.com/github/idnunez/MAT-421/blob/main/Homework1.ipynb\" target=\"_parent\"><img src=\"https://colab.research.google.com/assets/colab-badge.svg\" alt=\"Open In Colab\"/></a>"
      ]
    },
    {
      "cell_type": "markdown",
      "source": [
        "# MAT421 Module A\n",
        "\n",
        "Isaac Nunez\n",
        "\n"
      ],
      "metadata": {
        "id": "I278DJiHZYNT"
      }
    },
    {
      "cell_type": "markdown",
      "source": [
        "Section 9.1: Base N and Binary"
      ],
      "metadata": {
        "id": "AYQ-d_0KZjQf"
      }
    },
    {
      "cell_type": "markdown",
      "source": [
        "The number system we are most familiar with is the decimal system, which is base 10. The base of a number system is the number of digits that are used to represent numbers. In our base 10 example, numbers are respresented using 10 possible digits, with the positions of the digits each representing a power of 10."
      ],
      "metadata": {
        "id": "s7m3qFyhaBFo"
      }
    },
    {
      "cell_type": "markdown",
      "source": [
        "Let's take the number 256 as an example. Each digit represents a product of a power of 10. In this example, 256 is the sum of powers of 10 with 2 in the hundreds place, 5 in the tens place, and 6 in the ones place. The code below demonstrates this equivalence:"
      ],
      "metadata": {
        "id": "PsCB_KRia8OR"
      }
    },
    {
      "cell_type": "code",
      "source": [
        "2*10**2 + 5*10**1 + 6*10**0 == 256"
      ],
      "metadata": {
        "colab": {
          "base_uri": "https://localhost:8080/"
        },
        "id": "v_aK0lw5cWE8",
        "outputId": "6ec8abce-28bd-402a-f1e7-de4aaa3e6f74"
      },
      "execution_count": null,
      "outputs": [
        {
          "output_type": "execute_result",
          "data": {
            "text/plain": [
              "True"
            ]
          },
          "metadata": {},
          "execution_count": 3
        }
      ]
    },
    {
      "cell_type": "markdown",
      "source": [
        "Another number system that commonly used in computer science is binary, or base 2. Because of the different base, binary uses 2 digits: 1 and 0, with each digit representing a power of 2."
      ],
      "metadata": {
        "id": "nbv3lE6SctMO"
      }
    },
    {
      "cell_type": "markdown",
      "source": [
        "For example, the decimal value of 11 can be represented as the sum 8 + 2 + 1, which can be represented in binary as 1011. The code below demonstrates this:"
      ],
      "metadata": {
        "id": "ZNIFKLuve-ZY"
      }
    },
    {
      "cell_type": "code",
      "source": [
        "1*2**3 + 0*2**2 + 1*2**1 + 1*2**0 == 11"
      ],
      "metadata": {
        "colab": {
          "base_uri": "https://localhost:8080/"
        },
        "id": "SFjcfv_Vfn8J",
        "outputId": "74a960f5-08a9-4501-a33a-b9dddd242284"
      },
      "execution_count": null,
      "outputs": [
        {
          "output_type": "execute_result",
          "data": {
            "text/plain": [
              "True"
            ]
          },
          "metadata": {},
          "execution_count": 4
        }
      ]
    },
    {
      "cell_type": "markdown",
      "source": [
        "The hexadecimal system is another commonly used number system, notably used for representing rgb colors using a six digit hexadecimal number, called a hex code. The hexadecimal system is base 16, meaning each digit represents a power of 16. In order to display the full range of digits, the letters A-F are used alongside the standard digits 0-9 for a total of 16 digits."
      ],
      "metadata": {
        "id": "3e2S62cWgOkJ"
      }
    },
    {
      "cell_type": "markdown",
      "source": [
        "For example, the hex code for the color Dark Olive Green is #556b2f. The code can be divided into three two digit hexadecimal numbers, each representing the intensity of red, green, and blue respectively. In this example, the intensities of red, green, and blue translate to the decimal values of 85, 107, and 47, demonstrated in the code below.\n",
        "\n"
      ],
      "metadata": {
        "id": "dgoOvK5AHUpS"
      }
    },
    {
      "cell_type": "code",
      "source": [
        "5*16**1 + 5*16**0 == 85"
      ],
      "metadata": {
        "colab": {
          "base_uri": "https://localhost:8080/"
        },
        "id": "VY2KRborKSfF",
        "outputId": "d5973c7c-5887-499f-a946-6c61cd0e619e"
      },
      "execution_count": 7,
      "outputs": [
        {
          "output_type": "execute_result",
          "data": {
            "text/plain": [
              "True"
            ]
          },
          "metadata": {},
          "execution_count": 7
        }
      ]
    },
    {
      "cell_type": "code",
      "source": [
        "6*16**1 + 11*16**0 == 107"
      ],
      "metadata": {
        "colab": {
          "base_uri": "https://localhost:8080/"
        },
        "id": "MNZfBBkeLBrn",
        "outputId": "46b8b4d3-8398-4019-89d9-3dde9bddd25b"
      },
      "execution_count": 8,
      "outputs": [
        {
          "output_type": "execute_result",
          "data": {
            "text/plain": [
              "True"
            ]
          },
          "metadata": {},
          "execution_count": 8
        }
      ]
    },
    {
      "cell_type": "code",
      "source": [
        "2*16**1 + 15*16**0 == 47"
      ],
      "metadata": {
        "colab": {
          "base_uri": "https://localhost:8080/"
        },
        "id": "BtLh-DDDLDTM",
        "outputId": "dfa8a80e-b87a-4a54-d197-c900e95acb01"
      },
      "execution_count": 9,
      "outputs": [
        {
          "output_type": "execute_result",
          "data": {
            "text/plain": [
              "True"
            ]
          },
          "metadata": {},
          "execution_count": 9
        }
      ]
    },
    {
      "cell_type": "markdown",
      "source": [
        "Section 9.2: Floating Point Numbers\n",
        "\n",
        "The IEE754 standard is a method of representing a large range of numbers using 64 bits. These numbers are called \"Floating Point Numbers\"\n",
        "\n",
        "A floating point number is divided into 3 binary components:\n",
        "\n",
        "The first digit is the sign indicator, indicating whether the number is negative.\n",
        "\n",
        "The next 11 digits form the exponent, which indicates a power of 2.\n",
        "\n",
        "The final 52 digits form the fraction, which indicates a number between 1 and 2 to multiply by the exponent in order to form the final number.\n",
        "\n",
        "These three numbers, represented by s, e, and f respectively, form the final value using the following formula:\n",
        "\n",
        "[(-1)^s] * [2^(e-1023) * (1 + f)]"
      ],
      "metadata": {
        "id": "EcQW7TWgLZLm"
      }
    },
    {
      "cell_type": "code",
      "source": [
        "# Demonstration of the floating point demonstration of decimal number 60\n",
        "# 60 = 0 10000000100 1110000000000000000000000000000000000000000000000000\n",
        "((-1)**0) * (2**(2**10 + 2**2 - 1023) * (1 + 2**(-1) + 2**(-2) + 2**(-3))) == 60"
      ],
      "metadata": {
        "colab": {
          "base_uri": "https://localhost:8080/"
        },
        "id": "R8IH270kqvqM",
        "outputId": "18ff5df8-4bbb-4501-a37f-260f9ababdb8"
      },
      "execution_count": 5,
      "outputs": [
        {
          "output_type": "execute_result",
          "data": {
            "text/plain": [
              "True"
            ]
          },
          "metadata": {},
          "execution_count": 5
        }
      ]
    },
    {
      "cell_type": "markdown",
      "source": [
        "Due to there being a limited number of values that can be expressed using floating values, there are gaps between floating point values"
      ],
      "metadata": {
        "id": "R81U13cHvngw"
      }
    },
    {
      "cell_type": "code",
      "source": [
        "import numpy as np\n",
        "# Displays the space between the two closest floating point values to the input\n",
        "np.spacing(1e6)"
      ],
      "metadata": {
        "colab": {
          "base_uri": "https://localhost:8080/"
        },
        "id": "h5gk6TIhvya0",
        "outputId": "550f727c-2d6b-4f24-bd55-0c9159db0663"
      },
      "execution_count": 11,
      "outputs": [
        {
          "output_type": "execute_result",
          "data": {
            "text/plain": [
              "1.1641532182693481e-10"
            ]
          },
          "metadata": {},
          "execution_count": 11
        }
      ]
    },
    {
      "cell_type": "markdown",
      "source": [
        "While these gaps begin very small, they get larger as you deal with larger and larger numbers. This is because as the exponent gets larger, the fraction requires more bits to accurately portray the number, resulting in larger round-off errors."
      ],
      "metadata": {
        "id": "hoSwjWRIxOuS"
      }
    },
    {
      "cell_type": "code",
      "source": [
        "np.spacing(1e10)"
      ],
      "metadata": {
        "colab": {
          "base_uri": "https://localhost:8080/"
        },
        "id": "Edu7gehwyBWM",
        "outputId": "591db429-8f7f-4135-ba8e-4a172e267741"
      },
      "execution_count": 12,
      "outputs": [
        {
          "output_type": "execute_result",
          "data": {
            "text/plain": [
              "1.9073486328125e-06"
            ]
          },
          "metadata": {},
          "execution_count": 12
        }
      ]
    },
    {
      "cell_type": "code",
      "source": [
        "np.spacing(1e15)"
      ],
      "metadata": {
        "colab": {
          "base_uri": "https://localhost:8080/"
        },
        "id": "Z8JAXU-0yGVM",
        "outputId": "e828db3c-bd6c-464e-8f31-d9d0eaa61d9b"
      },
      "execution_count": 13,
      "outputs": [
        {
          "output_type": "execute_result",
          "data": {
            "text/plain": [
              "0.125"
            ]
          },
          "metadata": {},
          "execution_count": 13
        }
      ]
    },
    {
      "cell_type": "code",
      "source": [
        "np.spacing(1e20)"
      ],
      "metadata": {
        "colab": {
          "base_uri": "https://localhost:8080/"
        },
        "id": "aKRZXdImyMYA",
        "outputId": "f1e253e3-c3e6-4f79-844a-a8e338289f58"
      },
      "execution_count": 14,
      "outputs": [
        {
          "output_type": "execute_result",
          "data": {
            "text/plain": [
              "16384.0"
            ]
          },
          "metadata": {},
          "execution_count": 14
        }
      ]
    },
    {
      "cell_type": "markdown",
      "source": [
        "When less than half of the spacing between floating point numbers is added to a floating point, the computer will round to the nearest floating point. This rounding is negligable for smaller numbers but can be extreme for larger ones."
      ],
      "metadata": {
        "id": "YszFEsJ4y0sB"
      }
    },
    {
      "cell_type": "code",
      "source": [
        "1e10 + (np.spacing(1e10) / 2.01)"
      ],
      "metadata": {
        "colab": {
          "base_uri": "https://localhost:8080/"
        },
        "id": "0RDVmEz4z1Fo",
        "outputId": "15b50926-be76-4d82-cb6e-c4d4e92e3618"
      },
      "execution_count": 26,
      "outputs": [
        {
          "output_type": "execute_result",
          "data": {
            "text/plain": [
              "10000000000.0"
            ]
          },
          "metadata": {},
          "execution_count": 26
        }
      ]
    },
    {
      "cell_type": "markdown",
      "source": [
        "Floating point numbers are also unable to represent values above a certain threshold. This is also due to the limited number of bits. Any values above this threshold will be rounded to that max value or simply return inf."
      ],
      "metadata": {
        "id": "ELYx2R8p02Bk"
      }
    },
    {
      "cell_type": "code",
      "source": [
        "import sys\n",
        "sys.float_info.max"
      ],
      "metadata": {
        "colab": {
          "base_uri": "https://localhost:8080/"
        },
        "id": "PCDvaO0IyRTS",
        "outputId": "9059d1c9-8840-4323-a5b5-077447202cb2"
      },
      "execution_count": 27,
      "outputs": [
        {
          "output_type": "execute_result",
          "data": {
            "text/plain": [
              "1.7976931348623157e+308"
            ]
          },
          "metadata": {},
          "execution_count": 27
        }
      ]
    },
    {
      "cell_type": "code",
      "source": [
        "sys.float_info.max + sys.float_info.max"
      ],
      "metadata": {
        "colab": {
          "base_uri": "https://localhost:8080/"
        },
        "id": "RVl7M2mk1lIh",
        "outputId": "916b2546-bfb5-496c-9967-d34b0978e76f"
      },
      "execution_count": 30,
      "outputs": [
        {
          "output_type": "execute_result",
          "data": {
            "text/plain": [
              "inf"
            ]
          },
          "metadata": {},
          "execution_count": 30
        }
      ]
    },
    {
      "cell_type": "markdown",
      "source": [
        "Similarly, if a number is too small (close to zero) to be represented, it will return 0.0."
      ],
      "metadata": {
        "id": "ryLdSUSL14J2"
      }
    },
    {
      "cell_type": "code",
      "source": [
        "1e-1000"
      ],
      "metadata": {
        "colab": {
          "base_uri": "https://localhost:8080/"
        },
        "id": "HzyElR3J2DNz",
        "outputId": "163befe3-4790-4bd2-c645-886553d45d22"
      },
      "execution_count": 31,
      "outputs": [
        {
          "output_type": "execute_result",
          "data": {
            "text/plain": [
              "0.0"
            ]
          },
          "metadata": {},
          "execution_count": 31
        }
      ]
    },
    {
      "cell_type": "markdown",
      "source": [
        "Section 9.3: Round Off Errors\n",
        "\n",
        "Due to the limitations of floating point numbers, arithmetic involving them will often result in round off errors. This is due to values used in calculation not being represented properly within a limited number of bits."
      ],
      "metadata": {
        "id": "D6eGnGfr2Myl"
      }
    },
    {
      "cell_type": "code",
      "source": [
        "1000.5 - 1000.4"
      ],
      "metadata": {
        "colab": {
          "base_uri": "https://localhost:8080/"
        },
        "id": "OqTWtI6_21xI",
        "outputId": "e7de4f48-7ac4-488b-e96e-cf30ca4e6be6"
      },
      "execution_count": 32,
      "outputs": [
        {
          "output_type": "execute_result",
          "data": {
            "text/plain": [
              "0.10000000000002274"
            ]
          },
          "metadata": {},
          "execution_count": 32
        }
      ]
    },
    {
      "cell_type": "markdown",
      "source": [
        "These errors are often corrected using the round function, which can correct these small errors."
      ],
      "metadata": {
        "id": "w8Ef2ImU3Zt-"
      }
    },
    {
      "cell_type": "code",
      "source": [
        "round(1000.5 - 1000.4, 3)"
      ],
      "metadata": {
        "colab": {
          "base_uri": "https://localhost:8080/"
        },
        "id": "JzMvJ0973O4H",
        "outputId": "e271aed6-324c-42d1-f4f2-6a7d5b433f84"
      },
      "execution_count": 33,
      "outputs": [
        {
          "output_type": "execute_result",
          "data": {
            "text/plain": [
              "0.1"
            ]
          },
          "metadata": {},
          "execution_count": 33
        }
      ]
    },
    {
      "cell_type": "markdown",
      "source": [
        "When working with iterative functions, it is important to be cognisant of round off errors, as they can add up when working with large numbers of iterations. The following def should output 1 no matter how many iterations are run, but as n increases, round off errors cause this value to be come less accurate."
      ],
      "metadata": {
        "id": "Lzx2vOnB3izi"
      }
    },
    {
      "cell_type": "code",
      "source": [
        "def iteration(n):\n",
        "  output = 1\n",
        "  for i in range(n):\n",
        "    output += 0.2\n",
        "  for i in range(n):\n",
        "    output -= 0.2\n",
        "  return output"
      ],
      "metadata": {
        "id": "eskTKENs4XD8"
      },
      "execution_count": 34,
      "outputs": []
    },
    {
      "cell_type": "code",
      "source": [
        "print(iteration(1))\n",
        "print(iteration(100))\n",
        "print(iteration(10000))\n",
        "print(iteration(1000000))\n",
        "print(iteration(100000000))"
      ],
      "metadata": {
        "colab": {
          "base_uri": "https://localhost:8080/"
        },
        "id": "pK1jy-3U5B1f",
        "outputId": "f51638e9-5453-4330-d7cd-78b4fd16c416"
      },
      "execution_count": 39,
      "outputs": [
        {
          "output_type": "stream",
          "name": "stdout",
          "text": [
            "1.0\n",
            "0.9999999999999987\n",
            "0.9999999999999125\n",
            "1.0000000000069582\n",
            "1.000000001782235\n"
          ]
        }
      ]
    }
  ]
}
