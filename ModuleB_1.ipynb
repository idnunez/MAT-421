{
  "nbformat": 4,
  "nbformat_minor": 0,
  "metadata": {
    "colab": {
      "provenance": [],
      "authorship_tag": "ABX9TyM4EUoogFEY8YWWHuTgY0G1",
      "include_colab_link": true
    },
    "kernelspec": {
      "name": "python3",
      "display_name": "Python 3"
    },
    "language_info": {
      "name": "python"
    }
  },
  "cells": [
    {
      "cell_type": "markdown",
      "metadata": {
        "id": "view-in-github",
        "colab_type": "text"
      },
      "source": [
        "<a href=\"https://colab.research.google.com/github/idnunez/MAT-421/blob/main/ModuleB_1.ipynb\" target=\"_parent\"><img src=\"https://colab.research.google.com/assets/colab-badge.svg\" alt=\"Open In Colab\"/></a>"
      ]
    },
    {
      "cell_type": "markdown",
      "source": [
        "# MAT421 Module B Part 1\n",
        "\n",
        "Isaac Nunez"
      ],
      "metadata": {
        "id": "FGC5pLJ3wNQF"
      }
    },
    {
      "cell_type": "markdown",
      "source": [
        "Section 17.1: Interpolation Problem Statement\n",
        "\n",
        "Interpolation is a method of estimating a function based off of a set of data points. It differs from regression in that the resulting function intersects each data point.\n",
        "\n",
        "Regression is used when it can be assumed that the data contains errors while interpolation assumes that the data is free of errors.\n",
        "\n",
        "In this example, the data points represented by x and y can be used to estimate a function f(x) = y that passes through each point using interpolation."
      ],
      "metadata": {
        "id": "T1JZVfi_wgcG"
      }
    },
    {
      "cell_type": "code",
      "source": [
        "import matplotlib.pyplot as plt\n",
        "x = [1, 3, 4, 7]\n",
        "y = [4, 8, 6, 9]\n",
        "\n",
        "plt.figure(figsize = (3,3))\n",
        "plt.plot(x,y,'o')\n",
        "plt.xlabel('x')\n",
        "plt.ylabel('y')\n",
        "plt.title('Sample Data')\n",
        "plt.ylim(0,10)\n",
        "plt.show()"
      ],
      "metadata": {
        "colab": {
          "base_uri": "https://localhost:8080/",
          "height": 351
        },
        "id": "FiKsNobl0B5n",
        "outputId": "951132ae-e2e5-4c60-d439-d989ec427ebb"
      },
      "execution_count": 8,
      "outputs": [
        {
          "output_type": "execute_result",
          "data": {
            "text/plain": [
              "(0.0, 10.0)"
            ]
          },
          "metadata": {},
          "execution_count": 8
        },
        {
          "output_type": "display_data",
          "data": {
            "text/plain": [
              "<Figure size 300x300 with 1 Axes>"
            ],
            "image/png": "[encoded data removed]"
          },
          "metadata": {}
        }
      ]
    },
    {
      "cell_type": "markdown",
      "source": [
        "Section 17.2: Linear Interpolation\n",
        "\n",
        "One form of interpolation is linear interpolation. It is done by creating lines between each point. This is done with the following formula:\n",
        "\n",
        "f(x_n) = y_n + (y_(n+1) - y_n) / (x_(n+1) - x_n)\n",
        "\n",
        "This forms a piecewise linear function that passes through every data point.\n",
        "\n",
        "One notable weakness of linear interpolation is that it makes the assumption that all points between data points fall on a line, which makes this a fairly inaccurate form of interpolation. Another weakness is that the first derivative of the function is often not continuous."
      ],
      "metadata": {
        "id": "EFCXD0uq1210"
      }
    },
    {
      "cell_type": "code",
      "source": [
        "# This example uses the same data points as in section 17.1 and finds f(3.7) using linear interpolation\n",
        "from scipy.interpolate import interp1d\n",
        "import matplotlib.pyplot as plt\n",
        "\n",
        "x = [1, 3, 4, 7]\n",
        "y = [4, 8, 6, 9]\n",
        "\n",
        "f = interp1d(x,y)\n",
        "testvar = f(3.7)\n",
        "\n",
        "plt.figure(figsize = (3,3))\n",
        "plt.plot(x,y,'-ob')\n",
        "plt.plot(3.7,testvar,'ro')\n",
        "plt.xlabel('x')\n",
        "plt.ylabel('y')\n",
        "plt.ylim(0,10)\n",
        "plt.title('Linear Interpolation')\n",
        "plt.show()"
      ],
      "metadata": {
        "colab": {
          "base_uri": "https://localhost:8080/",
          "height": 333
        },
        "id": "IdIXLKBD3ueF",
        "outputId": "e326f638-19e9-45a3-91a3-a41edf8215a9"
      },
      "execution_count": 10,
      "outputs": [
        {
          "output_type": "display_data",
          "data": {
            "text/plain": [
              "<Figure size 300x300 with 1 Axes>"
            ],
            "image/png": "[encoded data removed]"
          },
          "metadata": {}
        }
      ]
    },
    {
      "cell_type": "markdown",
      "source": [
        "Section 17.3: Cubic Spline Interpolation\n",
        "\n",
        "Cubic spline interpolation is another common method for interpolating a set of data. It is done by using cubic functions to approximate the value of the function.\n",
        "\n",
        "A noteable benefit of this method is that the first and second derivatives are both continuous.\n",
        "\n",
        "In order to perform cubic spline interpolation, n functions are required, where n is the number of data points minus 1. Each of these functions is in the form:\n",
        "\n",
        "ax^3 + bx^2 + cx + d\n",
        "\n",
        "Thus, 4 coefficients need to be solved for for each cubic function.\n",
        "\n",
        "In order to find these coefficients, a system of equations can be created, where f_n(x) is a cubic function. Start by inputing all known values given by the data points.\n",
        "\n",
        "f_1(x_1) = y_1,\n",
        "f_1(x_2) = y_2,\n",
        "f_2(x_2) = y_2,\n",
        ".\n",
        ".\n",
        ".\n",
        "f_n-1(x_n-1) = y_n-1,\n",
        "f_n(x_n-1) = y_n-1,\n",
        "f_n(x_n) = y_n,\n",
        "\n",
        "Then, in order for the first derivative to be continuous, we must assume that the first derivatives of connecting functions must be equivalent at data points.\n",
        "\n",
        "f'_1(x_2) = f'_2(x_2),\n",
        "f'_2(x_3) = f'_3(x_3),\n",
        ".\n",
        ".\n",
        ".\n",
        "f'_n-1(x_n) = f'_n(x_n)\n",
        "\n",
        "This is also repeated with the second derivative, resulting in 4n - 2 equations. The final 2 equations can be found by making an assumption about the endpoints. One way to do this is the natural cubic spline, which assumes that the second derivatives of the endpoints are zero.\n",
        "\n",
        "f''_1(x_1) = 0,\n",
        "f''_n(x_n) = 0,\n",
        "\n",
        "This creates a system of 4n equations, which allows us to solve for all coefficients of the cubic functions."
      ],
      "metadata": {
        "id": "qM9rj1M65xmg"
      }
    },
    {
      "cell_type": "code",
      "source": [
        "# This performs cubic spline interpolation on the same data set as the previous sections. It also predicts f(3.7)\n",
        "from scipy.interpolate import CubicSpline\n",
        "import matplotlib.pyplot as plt\n",
        "import numpy as np\n",
        "\n",
        "x = [1, 3, 4, 7]\n",
        "y = [4, 8, 6, 9]\n",
        "\n",
        "f = CubicSpline(x,y, bc_type = 'natural')\n",
        "xspline = np.linspace(0,7,100)\n",
        "yspline = f(xspline)\n",
        "testvar = f(3.7)\n",
        "\n",
        "plt.figure(figsize = (3,3))\n",
        "plt.plot(x,y,'bo')\n",
        "plt.plot(xspline, yspline, 'b')\n",
        "plt.plot(3.7,testvar,'ro')\n",
        "plt.xlabel('x')\n",
        "plt.ylabel('y')\n",
        "plt.ylim(0,10)\n",
        "plt.title('Cubic Spline Interpolation')\n",
        "plt.show()"
      ],
      "metadata": {
        "colab": {
          "base_uri": "https://localhost:8080/",
          "height": 333
        },
        "id": "QCB4PWZY_ePX",
        "outputId": "eca24b27-14e0-4f03-bbd3-67e8a95fc738"
      },
      "execution_count": 14,
      "outputs": [
        {
          "output_type": "display_data",
          "data": {
            "text/plain": [
              "<Figure size 300x300 with 1 Axes>"
            ],
            "image/png": "[encoded data removed]"
          },
          "metadata": {}
        }
      ]
    }
  ]
}