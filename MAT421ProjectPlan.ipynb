{
  "nbformat": 4,
  "nbformat_minor": 0,
  "metadata": {
    "colab": {
      "provenance": [],
      "authorship_tag": "ABX9TyOnecNOwc+lfRz0runfwu0y",
      "include_colab_link": true
    },
    "kernelspec": {
      "name": "python3",
      "display_name": "Python 3"
    },
    "language_info": {
      "name": "python"
    }
  },
  "cells": [
    {
      "cell_type": "markdown",
      "metadata": {
        "id": "view-in-github",
        "colab_type": "text"
      },
      "source": [
        "<a href=\"https://colab.research.google.com/github/idnunez/MAT-421/blob/main/MAT421ProjectPlan.ipynb\" target=\"_parent\"><img src=\"https://colab.research.google.com/assets/colab-badge.svg\" alt=\"Open In Colab\"/></a>"
      ]
    },
    {
      "cell_type": "markdown",
      "source": [
        "# MAT421 Final Project Outline\n",
        "\n",
        "Isaac Nunez"
      ],
      "metadata": {
        "id": "TDT7qklgBnTi"
      }
    },
    {
      "cell_type": "markdown",
      "source": [
        "Introduction to the problem\n",
        "\n",
        "In this project I plan to test the accuracy of Lagrange and Spline Interpolation compared to Polynomial regression when analysing average global temperature data from approximately the past 200 years. The purpose of these comparisons is to determine which method will yield more accurate results when predicting specifically temperatures."
      ],
      "metadata": {
        "id": "73cIYK7IB1qJ"
      }
    },
    {
      "cell_type": "markdown",
      "source": [
        "Related Work\n",
        "\n",
        "The following sites explain the differences between interpolation and regression as a whole. In summary, interpolation assumes that there is no error found in the dataset, including every point in the final function, while regression assumes some level of noise, minimizing the error in order to make more accurate predictions. Understanding these strengths and weaknesses of the two methods will help to better analyze the differences in accuracy.\n",
        "\n",
        "https://www.andreaminini.net/math/difference-between-interpolation-and-regression\n",
        "\n",
        "https://www.baeldung.com/cs/interpolation-vs-regression"
      ],
      "metadata": {
        "id": "MTFo2JK4DVBp"
      }
    },
    {
      "cell_type": "markdown",
      "source": [
        "Proposed Methodology\n",
        "\n",
        "Using known world temperature data, I will create various interpolations and regressions using different subsets of data. I intend on testing datasets with both even and uneven spacing, larger and smaller sample sizes, and larger and smaller ranges. I then will compare the average errors between the interpolations and regressions and see how they compare with each other.\n",
        "\n",
        "The dataset used will be the Global Temperature Time Series from datahub.io.\n",
        "\n",
        "https://datahub.io/core/global-temp#readme"
      ],
      "metadata": {
        "id": "ErlsqMkmGsX6"
      }
    },
    {
      "cell_type": "markdown",
      "source": [
        "Experiment Setups\n",
        "\n",
        "The dataset used will be the Global Temperature Time Series from datahub.io. Subsets of this data will be created with gaps in order to test the error between datapoints chosen for the subset, allowing us to gauge how accurate the predictions are.\n",
        "\n",
        "https://datahub.io/core/global-temp#readme"
      ],
      "metadata": {
        "id": "klTnN6LJJBAG"
      }
    },
    {
      "cell_type": "markdown",
      "source": [
        "Expected Results\n",
        "\n",
        "For the type of data that has been selected for this project, I expect that interpolation will turn out to have the smaller error compared to regression. This is because of the way global temperature functions mathematically. Since temperature in a place is continuous, it can more easily be mapped to a single function. I also predict that as the gaps in data increases, the accuracy of both methods will decrease, since less data is being used to make accurate predictions."
      ],
      "metadata": {
        "id": "eG7OiFSdJrCj"
      }
    }
  ]
}