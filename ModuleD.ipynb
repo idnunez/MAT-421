{
  "nbformat": 4,
  "nbformat_minor": 0,
  "metadata": {
    "colab": {
      "provenance": [],
      "authorship_tag": "ABX9TyMP5jkrzkcaXTOitvBwLJ3B",
      "include_colab_link": true
    },
    "kernelspec": {
      "name": "python3",
      "display_name": "Python 3"
    },
    "language_info": {
      "name": "python"
    }
  },
  "cells": [
    {
      "cell_type": "markdown",
      "metadata": {
        "id": "view-in-github",
        "colab_type": "text"
      },
      "source": [
        "<a href=\"https://colab.research.google.com/github/idnunez/MAT-421/blob/main/ModuleD.ipynb\" target=\"_parent\"><img src=\"https://colab.research.google.com/assets/colab-badge.svg\" alt=\"Open In Colab\"/></a>"
      ]
    },
    {
      "cell_type": "markdown",
      "source": [
        "# MAT421 Module D\n",
        "\n",
        "Isaac Nunez"
      ],
      "metadata": {
        "id": "24nU4iiLSeiU"
      }
    },
    {
      "cell_type": "markdown",
      "source": [
        "**Section 1.1: Introduction**\n",
        "\n",
        "Linear algebra is an area of mathematics that is essential to the fields of computing, data science, and more.\n",
        "\n",
        "While simple linear algebra problems can be solved using traditional methods, programming languages such as python have simplified these computations, allowing us to handle large amounts of data easily."
      ],
      "metadata": {
        "id": "7pTzZAdzSv6l"
      }
    },
    {
      "cell_type": "code",
      "execution_count": 2,
      "metadata": {
        "colab": {
          "base_uri": "https://localhost:8080/"
        },
        "id": "x8pVAmglSXe4",
        "outputId": "5302c879-8a1a-4cf2-db15-8df4a607929c"
      },
      "outputs": [
        {
          "output_type": "stream",
          "name": "stdout",
          "text": [
            "[[19 22]\n",
            " [43 50]]\n"
          ]
        }
      ],
      "source": [
        "import numpy as np\n",
        "\n",
        "A = np.array([[1,2],[3,4]])\n",
        "B = np.array([[5,6],[7,8]])\n",
        "\n",
        "#Calculates the dot product of the two matrices using the numpy library\n",
        "print(np.dot(A,B))"
      ]
    },
    {
      "cell_type": "markdown",
      "source": [
        "**Section 1.2: Elements of Linear Algebra**\n",
        "\n",
        "Section 1.2.1: Linear Combinations\n",
        "\n",
        "A linear combination of a set of arrays is a set of arrays that can be created with a sum of a subset of arrays multiplied by some constant.\n",
        "\n",
        "A linear space is defined as a set of vectors that is closed by vector addition and scalar multiplication for a particular basis.\n",
        "\n",
        "The span of a basis is a set that contains all vectors that can be formed by a linear combination of the vectors in the basis. This is represented as:\n",
        "\n",
        "$span(w_{1},...w_{m}) = \\{\\sum_{j=1}^{m}a_{j}w_{j}:a_{1},...a_{j}\\in\\mathbb{R}\\}$\n",
        "\n",
        "Linear Independence:\n",
        "\n",
        "A set of vectors is considered to be linearly independent if none of the members of the set are a linear combination of the other vectors in the set. For example, the basis (1,0), (0,1), (1,1) is not linearly independent because the vector (1,1) is a linear combination of 1*(1,0) + 1*(0,1).\n",
        "\n"
      ],
      "metadata": {
        "id": "XeCa6I7qUf_U"
      }
    },
    {
      "cell_type": "code",
      "source": [
        "A = np.array([1,0])\n",
        "B = np.array([0,1])\n",
        "\n",
        "A + B"
      ],
      "metadata": {
        "colab": {
          "base_uri": "https://localhost:8080/"
        },
        "id": "74BL2v4nY1Tk",
        "outputId": "e92b48dc-ea30-4551-d11f-6c626a5926ac"
      },
      "execution_count": 3,
      "outputs": [
        {
          "output_type": "execute_result",
          "data": {
            "text/plain": [
              "array([1, 1])"
            ]
          },
          "metadata": {},
          "execution_count": 3
        }
      ]
    },
    {
      "cell_type": "markdown",
      "source": [
        "**Section 1.2.2: Orthogonality**\n",
        "\n",
        "Orthonormal Bases\n",
        "\n",
        "Orthonormal bases are typically used to simplify applications of linear algebra by putting bases in a basic form.\n",
        "\n",
        "\n",
        "A basis is considered orthonormal if each vector in the basis is pairwise orthogonal to every other vector in the basis and has a norm of 1."
      ],
      "metadata": {
        "id": "ATG14WX6ZJk1"
      }
    },
    {
      "cell_type": "code",
      "source": [
        "A = np.array([1/np.sqrt(2),0,1/np.sqrt(2)])\n",
        "B = np.array([0,1,0])\n",
        "\n",
        "#A vector is normal if it's norm is one.\n",
        "print(np.linalg.norm(A))\n",
        "print(np.linalg.norm(B))\n",
        "\n",
        "#Two vectors are orthogonal if their dot product is zero.\n",
        "print(np.dot(A,B))"
      ],
      "metadata": {
        "colab": {
          "base_uri": "https://localhost:8080/"
        },
        "id": "F2eaVBqJb9MI",
        "outputId": "b6cc58b4-45bb-4d02-a719-5f466c2232b3"
      },
      "execution_count": 4,
      "outputs": [
        {
          "output_type": "stream",
          "name": "stdout",
          "text": [
            "0.9999999999999999\n",
            "1.0\n",
            "0.0\n"
          ]
        }
      ]
    },
    {
      "cell_type": "markdown",
      "source": [
        "Gram-Schmidt Process\n",
        "\n",
        "One method for finding an orthonormal basis is the Gram-Schmidt process. It is based on the principle that if a basis $span(a_{1},...a_{m})$ exists in $\\mathbb{R}^{n}$, there then exists an orthonormal basis $q_{1},...q_{m}$ that spans the same subspace.\n",
        "\n",
        "The Gram-Schmidt process involves replacing vectors in the original orthogonal projection of the basis to create an orthonormal basis."
      ],
      "metadata": {
        "id": "wbevZFrWdmB6"
      }
    },
    {
      "cell_type": "markdown",
      "source": [
        "Eigenvalues and Eigenvectors\n",
        "\n",
        "An eigenvalue of a matrix A is a value $\\lambda$ such that\n",
        "\n",
        "$Ax = \\lambda x$\n",
        "\n",
        "Where A is an nxn non-zero vector, x is a non-zero nx1 vector, and $\\lambda$ is a constant. All vectors x that satisfy this condition are considered to be the corresponding eigenvectors."
      ],
      "metadata": {
        "id": "qW3JTACgevEP"
      }
    },
    {
      "cell_type": "code",
      "source": [
        "#Finding the eigenvalues and eigenvectors of a matrix\n",
        "\n",
        "A = np.array([[3,2,5],[4,2,6],[0,1,9]])\n",
        "\n",
        "#Calling the eig function from numpy.linalg\n",
        "evals, evectors = np.linalg.eig(A)\n",
        "\n",
        "print(\"Eigenvalues of A are: \", evals)\n",
        "print(\"Eigenvectors of A are: \", evectors)"
      ],
      "metadata": {
        "colab": {
          "base_uri": "https://localhost:8080/"
        },
        "id": "4JMbWAQqhCDY",
        "outputId": "a21df4b9-1036-46b5-8871-bedf2fc71771"
      },
      "execution_count": 5,
      "outputs": [
        {
          "output_type": "stream",
          "name": "stdout",
          "text": [
            "Eigenvalues of A are:  [-0.37715862  4.14667149 10.23048713]\n",
            "Eigenvectors of A are:  [[ 0.39648204  0.63790933  0.54545017]\n",
            " [-0.91286635  0.754267    0.65043541]\n",
            " [ 0.09735    -0.15541231  0.52859993]]\n"
          ]
        }
      ]
    },
    {
      "cell_type": "markdown",
      "source": [
        "**Section 1.3: Linear Regression**\n",
        "\n",
        "Linear Regression is a method of finding a trend in a set of data by approximating a linear equation that represents the overall shape of the data.\n",
        "\n",
        "It differs from interpolation in that it does not pass through every point of data, but instead finds a line that describes the general trend of the data."
      ],
      "metadata": {
        "id": "vmDR6s7CiJ4P"
      }
    },
    {
      "cell_type": "markdown",
      "source": [
        "QR Decomposition\n",
        "\n",
        "QR decomposition is a method of solving a least squares problem by decomposing the initial matrix A into a product of an orthonormal matrix Q and a triangular matrix R such that A = QR.\n",
        "\n",
        "Instead of finding the QR factorization by hand, we can use the scipy function in order to find the decomposition."
      ],
      "metadata": {
        "id": "HH328mEijXEC"
      }
    },
    {
      "cell_type": "code",
      "source": [
        "import scipy\n",
        "import scipy.linalg\n",
        "\n",
        "A = np.array([[3,2,5],[4,2,6],[0,1,9]])\n",
        "\n",
        "Q, R = scipy.linalg.qr(A)\n",
        "\n",
        "print(\"A = \", A)\n",
        "print(\"Q = \", Q)\n",
        "print(\"R = \", R)\n",
        "#Shows that A=QR\n",
        "print(\"QR = \", np.dot(Q,R))"
      ],
      "metadata": {
        "colab": {
          "base_uri": "https://localhost:8080/"
        },
        "id": "LYxO2v6S0z__",
        "outputId": "88f4c3a5-b37f-44f9-d0af-2975c40953d1"
      },
      "execution_count": 8,
      "outputs": [
        {
          "output_type": "stream",
          "name": "stdout",
          "text": [
            "A =  [[3 2 5]\n",
            " [4 2 6]\n",
            " [0 1 9]]\n",
            "Q =  [[-0.6         0.29711254 -0.74278135]\n",
            " [-0.8        -0.22283441  0.55708601]\n",
            " [-0.          0.92847669  0.37139068]]\n",
            "R =  [[-5.         -2.8        -7.8       ]\n",
            " [ 0.          1.07703296  8.50484649]\n",
            " [ 0.          0.          2.97112541]]\n",
            "QR =  [[3. 2. 5.]\n",
            " [4. 2. 6.]\n",
            " [0. 1. 9.]]\n"
          ]
        }
      ]
    },
    {
      "cell_type": "markdown",
      "source": [
        "Linear Regression\n",
        "\n",
        "The ultimate goal of a least squared problem is to find the set of parameters that minimize the error of the function with the given data set.\n",
        "\n",
        "This method uses a matrix A constructed from a column of ones and a column containing the input data. Then, instead of solving for Ax = b, you solve for A$\\beta$ = y, with $beta$ representing the coefficients for the final linear regression. By using this method, a linear regression can be approximated.\n",
        "\n",
        "We can use python to find the linear regression of a set of points using this method."
      ],
      "metadata": {
        "id": "DRmoCjJH14WB"
      }
    },
    {
      "cell_type": "code",
      "source": [
        "import matplotlib.pyplot as plt\n",
        "#Generate a random set of data to make a regression\n",
        "\n",
        "x = np.linspace(0,50,100)\n",
        "y = x + x * np.random.random(len(x))\n",
        "\n",
        "#Assemble the matrix A and the vector y\n",
        "A = np.vstack([x,np.ones(len(x))]).T\n",
        "y = y[:,np.newaxis]\n",
        "\n",
        "#Find the linear regression\n",
        "alpha = np.dot((np.dot(np.linalg.inv(np.dot(A.T,A)),A.T)),y)\n",
        "\n",
        "plt.figure(figsize = (10,8))\n",
        "plt.plot(x, y, 'b.')\n",
        "plt.plot(x, alpha[0]*x + alpha[1], 'r')\n",
        "plt.xlabel('x'); plt.ylabel('y')\n",
        "plt.show()"
      ],
      "metadata": {
        "colab": {
          "base_uri": "https://localhost:8080/",
          "height": 696
        },
        "id": "Jc0Klgg44tEY",
        "outputId": "88870f28-ae02-462d-c078-9ddbc5af770b"
      },
      "execution_count": 11,
      "outputs": [
        {
          "output_type": "display_data",
          "data": {
            "text/plain": [
              "<Figure size 1000x800 with 1 Axes>"
            ],
            "image/png": "[encoded data removed]"
          },
          "metadata": {}
        }
      ]
    }
  ]
}